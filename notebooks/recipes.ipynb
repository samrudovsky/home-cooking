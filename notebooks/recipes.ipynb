{
 "cells": [
  {
   "cell_type": "markdown",
   "metadata": {},
   "source": [
    "### Imports"
   ]
  },
  {
   "cell_type": "code",
   "execution_count": 68,
   "metadata": {
    "ExecuteTime": {
     "end_time": "2020-01-04T19:12:31.844506Z",
     "start_time": "2020-01-04T19:12:31.823724Z"
    }
   },
   "outputs": [],
   "source": [
    "import pandas as pd\n",
    "pd.set_option('display.max_rows', 100)\n",
    "pd.set_option('display.width', 1000)\n",
    "\n",
    "import numpy as np\n",
    "import re\n",
    "import string\n",
    "import pickle\n",
    "import matplotlib.pyplot as plt\n",
    "%matplotlib inline\n",
    "\n",
    "import os\n",
    "from os import listdir\n",
    "from os.path import isfile, join\n",
    "\n",
    "import itertools\n",
    "\n",
    "from nltk import word_tokenize\n",
    "from nltk.corpus import stopwords\n",
    "from nltk.stem import WordNetLemmatizer\n",
    "\n",
    "from sklearn.feature_extraction.text import TfidfVectorizer\n",
    "from sklearn.decomposition import NMF\n",
    "from sklearn.metrics import confusion_matrix\n",
    "\n",
    "from keras.models import Model, load_model, Sequential\n",
    "from keras.utils import np_utils\n",
    "from keras.layers import Dense, Conv2D, MaxPooling2D, Flatten\n",
    "from keras.applications.vgg16 import VGG16\n",
    "from keras_preprocessing.image import ImageDataGenerator\n",
    "from keras import regularizers\n",
    "\n",
    "from glob import glob\n",
    "\n",
    "import PIL.Image\n",
    "from PIL import Image\n",
    "\n",
    "import warnings\n",
    "warnings.filterwarnings('ignore')"
   ]
  },
  {
   "cell_type": "markdown",
   "metadata": {},
   "source": [
    "### Load data from prior web scraping"
   ]
  },
  {
   "cell_type": "code",
   "execution_count": 69,
   "metadata": {
    "ExecuteTime": {
     "end_time": "2020-01-04T19:12:32.576025Z",
     "start_time": "2020-01-04T19:12:32.130028Z"
    }
   },
   "outputs": [],
   "source": [
    "recipes_part_1 = pd.read_csv('../pickles-csvs/web-scraping-pickles-csvs/tables_1-6.csv')\n",
    "recipes_part_2 = pd.read_csv('../pickles-csvs/web-scraping-pickles-csvs/tables_7-12.csv')"
   ]
  },
  {
   "cell_type": "markdown",
   "metadata": {},
   "source": [
    "### Preprocessing"
   ]
  },
  {
   "cell_type": "code",
   "execution_count": 70,
   "metadata": {
    "ExecuteTime": {
     "end_time": "2020-01-04T19:12:33.037231Z",
     "start_time": "2020-01-04T19:12:32.579315Z"
    }
   },
   "outputs": [],
   "source": [
    "recipes_part_1.dropna(inplace=True) # Drop recipes without nutrition info\n",
    "recipes_part_1.drop(columns='Unnamed: 0', inplace=True) # Drop duplicate index\n",
    "recipes_part_1['Nutrition Info'] = recipes_part_1['Nutrition Info'].apply(lambda x: x[1:-1].split(',')) \n",
    "\n",
    "recipes_part_2.drop(columns='Unnamed: 0', inplace=True) # Drop duplicate index\n",
    "recipes_part_2.dropna(inplace=True) # Drop recipes without nutrition info\n",
    "recipes_part_2['Nutrition Info'] = recipes_part_2['Nutrition Info'].apply(lambda x: x[1:-1].split(',')) \n",
    "recipes_part_2.drop(columns='Unnamed: 0.1', inplace=True) # Drop duplicate index"
   ]
  },
  {
   "cell_type": "code",
   "execution_count": 71,
   "metadata": {
    "ExecuteTime": {
     "end_time": "2020-01-04T19:12:33.094477Z",
     "start_time": "2020-01-04T19:12:33.039699Z"
    }
   },
   "outputs": [],
   "source": [
    "all_recipes = pd.concat([recipes_part_1, recipes_part_2]) # make table of all recipes"
   ]
  },
  {
   "cell_type": "code",
   "execution_count": 72,
   "metadata": {
    "ExecuteTime": {
     "end_time": "2020-01-04T19:12:34.400610Z",
     "start_time": "2020-01-04T19:12:34.367167Z"
    }
   },
   "outputs": [],
   "source": [
    "df = all_recipes[all_recipes['Rating'] > 3.5] # Only keep high-rated recipes"
   ]
  },
  {
   "cell_type": "code",
   "execution_count": 73,
   "metadata": {
    "ExecuteTime": {
     "end_time": "2020-01-04T19:12:36.723942Z",
     "start_time": "2020-01-04T19:12:35.524541Z"
    }
   },
   "outputs": [],
   "source": [
    "# Make discrete nutrition columns from nutrition info\n",
    "\n",
    "df.loc[:, 'Calories'] = df['Nutrition Info'].map(lambda x: x[0]).astype(float)\n",
    "df.loc[:, 'Fat'] = df['Nutrition Info'].map(lambda x: x[1]).astype(float)\n",
    "df.loc[:, 'Carbs'] = df['Nutrition Info'].map(lambda x: x[2]).astype(float)\n",
    "df.loc[:, 'Protein'] = df['Nutrition Info'].map(lambda x: x[3]).astype(float)\n",
    "df.loc[:, 'Cholesterol'] = df['Nutrition Info'].map(lambda x: x[4]).astype(float)\n",
    "df.loc[:, 'Sodium'] = df['Nutrition Info'].map(lambda x: x[5]).astype(float)\n",
    "\n",
    "df.drop(columns='Nutrition Info', inplace=True) # Drop original column"
   ]
  },
  {
   "cell_type": "code",
   "execution_count": 74,
   "metadata": {
    "ExecuteTime": {
     "end_time": "2020-01-04T19:12:37.588645Z",
     "start_time": "2020-01-04T19:12:36.726195Z"
    }
   },
   "outputs": [],
   "source": [
    "df.to_csv('../pickles-csvs/recipe-tables/df.csv', index=False)"
   ]
  },
  {
   "cell_type": "markdown",
   "metadata": {},
   "source": [
    "### Recipes by a variety of health metrics"
   ]
  },
  {
   "cell_type": "code",
   "execution_count": 75,
   "metadata": {
    "ExecuteTime": {
     "end_time": "2020-01-04T19:12:41.874425Z",
     "start_time": "2020-01-04T19:12:41.821918Z"
    }
   },
   "outputs": [],
   "source": [
    "df_low_cal = df[df['Calories'] <= 500] # low cal\n",
    "df_low_fat = df[df['Fat'] <= 7] # low fat\n",
    "df_low_carb = df[df['Carbs'] <= 25] # low carb\n",
    "df_high_protein = df[df['Protein'] >= 20] # high protein\n",
    "df_low_cholesterol = df[df['Cholesterol'] <= 25] # low cholesterol\n",
    "df_low_sodium = df[df['Sodium'] <= 500] # low sodium"
   ]
  },
  {
   "cell_type": "code",
   "execution_count": 76,
   "metadata": {
    "ExecuteTime": {
     "end_time": "2020-01-04T19:12:44.753551Z",
     "start_time": "2020-01-04T19:12:42.584682Z"
    }
   },
   "outputs": [],
   "source": [
    "df_low_cal.to_csv('../pickles-csvs/recipe-tables/low_cal.csv', index=False)\n",
    "df_low_fat.to_csv('../pickles-csvs/recipe-tables/low_fat.csv', index=False)\n",
    "df_low_carb.to_csv('../pickles-csvs/recipe-tables/low_carb.csv', index=False)\n",
    "df_high_protein.to_csv('../pickles-csvs/recipe-tables/high_protein.csv', index=False)\n",
    "df_low_cholesterol.to_csv('../pickles-csvs/recipe-tables/low_cholesterol.csv', index=False)\n",
    "df_low_sodium.to_csv('../pickles-csvs/recipe-tables/low_sodium.csv', index=False)"
   ]
  },
  {
   "cell_type": "markdown",
   "metadata": {},
   "source": [
    "### Quick Recipes"
   ]
  },
  {
   "cell_type": "code",
   "execution_count": 77,
   "metadata": {
    "ExecuteTime": {
     "end_time": "2020-01-04T19:13:03.941551Z",
     "start_time": "2020-01-04T19:13:03.929810Z"
    }
   },
   "outputs": [],
   "source": [
    "df_quick = df[df['Prep Time'] <= 45]"
   ]
  },
  {
   "cell_type": "code",
   "execution_count": 78,
   "metadata": {
    "ExecuteTime": {
     "end_time": "2020-01-04T19:13:07.180892Z",
     "start_time": "2020-01-04T19:13:06.797802Z"
    }
   },
   "outputs": [],
   "source": [
    "df_quick.to_csv('../pickles-csvs/recipe-tables/df_quick.csv', index=False)"
   ]
  },
  {
   "cell_type": "code",
   "execution_count": 79,
   "metadata": {
    "ExecuteTime": {
     "end_time": "2020-01-04T19:13:09.017256Z",
     "start_time": "2020-01-04T19:13:08.979831Z"
    }
   },
   "outputs": [],
   "source": [
    "# Quick, healthy recipes\n",
    "\n",
    "df_low_cal_quick = df_quick[df_quick['Calories'] <= 500] # low cal\n",
    "df_low_fat_quick = df_quick[df_quick['Fat'] <= 7] \n",
    "df_low_carb_quick = df_quick[df_quick['Carbs'] <= 25] \n",
    "df_high_protein_quick = df_quick[df_quick['Protein'] >= 20] \n",
    "df_low_cholesterol_quick = df_quick[df_quick['Cholesterol'] <= 25] \n",
    "df_low_sodium_quick = df_quick[df_quick['Sodium'] <= 500] "
   ]
  },
  {
   "cell_type": "code",
   "execution_count": 80,
   "metadata": {
    "ExecuteTime": {
     "end_time": "2020-01-04T19:13:10.944907Z",
     "start_time": "2020-01-04T19:13:09.388570Z"
    }
   },
   "outputs": [],
   "source": [
    "df_low_cal_quick.to_csv('../pickles-csvs/recipe-tables/low_cal_quick.csv', index=False)\n",
    "df_low_fat_quick.to_csv('../pickles-csvs/recipe-tables/low_fat_quick.csv', index=False)\n",
    "df_low_carb_quick.to_csv('../pickles-csvs/recipe-tables/low_carb_quick.csv', index=False)\n",
    "df_high_protein_quick.to_csv('../pickles-csvs/recipe-tables/high_protein_quick.csv', index=False)\n",
    "df_low_cholesterol_quick.to_csv('../pickles-csvs/recipe-tables/low_cholesterol_quick.csv', index=False)\n",
    "df_low_sodium_quick.to_csv('../pickles-csvs/recipe-tables/low_sodium_quick.csv', index=False)"
   ]
  },
  {
   "cell_type": "markdown",
   "metadata": {
    "heading_collapsed": true
   },
   "source": [
    "### Topic Model (Not used in production)"
   ]
  },
  {
   "cell_type": "code",
   "execution_count": 26,
   "metadata": {
    "ExecuteTime": {
     "end_time": "2020-01-02T16:25:30.520880Z",
     "start_time": "2020-01-02T16:25:30.508037Z"
    },
    "hidden": true
   },
   "outputs": [],
   "source": [
    "# stop words\n",
    "\n",
    "stop_words = stopwords.words('english')\n",
    "\n",
    "custom_words = ['teaspoon', 'teaspoons', 'tablespoon', 'tablespoons', 'cup', 'cups', 'ounce', 'ounces', \n",
    "                'container', 'prepared', 'active', 'cut', 'inch', 'piece', 'taste', 'cored', 'cubed',\n",
    "                'rinsed', 'sliced', 'diced', 'minced', 'chopped', 'degrees', 'packed', 'peeled', 'finely',\n",
    "                'optional', 'crushed', 'divided', 'pinch', 'needed', 'recipe', 'room', 'temperature',\n",
    "                'thinly']\n",
    "\n",
    "stop_words.extend(custom_words)"
   ]
  },
  {
   "cell_type": "code",
   "execution_count": 100,
   "metadata": {
    "ExecuteTime": {
     "end_time": "2020-01-02T16:41:39.175371Z",
     "start_time": "2020-01-02T16:41:22.495716Z"
    },
    "hidden": true
   },
   "outputs": [],
   "source": [
    "def clean(l):\n",
    "   \n",
    "   # Clean text before tokenization\n",
    "    \n",
    "    clean_ingredient_list = []\n",
    "    for ingredient in l:\n",
    "        \n",
    "        clean_text = re.sub('[%s]' % re.escape(string.punctuation), ' ', ''.join(ingredient)) # remove punctuation\n",
    "        clean_text = clean_text.lower() # convert to lower case\n",
    "        clean_text = re.sub('\\w*\\dw*', ' ', clean_text) # alphanumerics\n",
    "        clean_text = re.sub('[\\r][\\n][\\t]', ' ', clean_text) # remove characters \n",
    "        clean_ingredient_list.append(clean_text)\n",
    "    \n",
    "    return clean_ingredient_list\n",
    "\n",
    "ingredients = clean(df['Ingredients'].tolist())\n",
    "\n",
    "# Tokenize\n",
    "ingredients = [word_tokenize(ingredient) for ingredient in ingredients]"
   ]
  },
  {
   "cell_type": "code",
   "execution_count": 101,
   "metadata": {
    "ExecuteTime": {
     "end_time": "2020-01-02T16:41:39.317058Z",
     "start_time": "2020-01-02T16:41:39.178032Z"
    },
    "hidden": true
   },
   "outputs": [],
   "source": [
    "# Join list of lists\n",
    "ingredients = [' '.join(i) for i in ingredients]"
   ]
  },
  {
   "cell_type": "code",
   "execution_count": 102,
   "metadata": {
    "ExecuteTime": {
     "end_time": "2020-01-02T16:41:42.955581Z",
     "start_time": "2020-01-02T16:41:39.319502Z"
    },
    "hidden": true
   },
   "outputs": [],
   "source": [
    "vectorizer = TfidfVectorizer(stop_words=stop_words, \n",
    "                             strip_accents='ascii')\n",
    "\n",
    "X = vectorizer.fit_transform(ingredients)\n",
    "X = pd.DataFrame(X.toarray(), columns=vectorizer.get_feature_names()) \n",
    "\n",
    "words = vectorizer.get_feature_names()"
   ]
  },
  {
   "cell_type": "code",
   "execution_count": 103,
   "metadata": {
    "ExecuteTime": {
     "end_time": "2020-01-02T16:43:36.521868Z",
     "start_time": "2020-01-02T16:41:42.958495Z"
    },
    "hidden": true
   },
   "outputs": [],
   "source": [
    "model = NMF(n_components=20)\n",
    "W = model.fit_transform(X)\n",
    "H = model.components_"
   ]
  },
  {
   "cell_type": "code",
   "execution_count": 104,
   "metadata": {
    "ExecuteTime": {
     "end_time": "2020-01-02T16:43:36.967207Z",
     "start_time": "2020-01-02T16:43:36.578333Z"
    },
    "hidden": true
   },
   "outputs": [
    {
     "data": {
      "text/plain": [
       "1     5066\n",
       "2     3429\n",
       "4     3187\n",
       "14    3178\n",
       "9     2711\n",
       "3     2521\n",
       "18    2505\n",
       "6     2260\n",
       "10    2146\n",
       "8     2052\n",
       "15    2041\n",
       "12    1977\n",
       "16    1923\n",
       "7     1742\n",
       "11    1733\n",
       "19    1644\n",
       "5     1589\n",
       "17    1443\n",
       "13     932\n",
       "0      794\n",
       "dtype: int64"
      ]
     },
     "execution_count": 104,
     "metadata": {},
     "output_type": "execute_result"
    }
   ],
   "source": [
    "doc_cluster = W.argmax(axis = 1)\n",
    "pd.Series(doc_cluster).value_counts() # how many words in each topic"
   ]
  },
  {
   "cell_type": "code",
   "execution_count": 105,
   "metadata": {
    "ExecuteTime": {
     "end_time": "2020-01-02T16:43:37.179895Z",
     "start_time": "2020-01-02T16:43:36.973924Z"
    },
    "hidden": true
   },
   "outputs": [
    {
     "data": {
      "text/html": [
       "<div>\n",
       "<style scoped>\n",
       "    .dataframe tbody tr th:only-of-type {\n",
       "        vertical-align: middle;\n",
       "    }\n",
       "\n",
       "    .dataframe tbody tr th {\n",
       "        vertical-align: top;\n",
       "    }\n",
       "\n",
       "    .dataframe thead th {\n",
       "        text-align: right;\n",
       "    }\n",
       "</style>\n",
       "<table border=\"1\" class=\"dataframe\">\n",
       "  <thead>\n",
       "    <tr style=\"text-align: right;\">\n",
       "      <th></th>\n",
       "      <th>0</th>\n",
       "      <th>1</th>\n",
       "      <th>2</th>\n",
       "      <th>3</th>\n",
       "      <th>4</th>\n",
       "      <th>5</th>\n",
       "      <th>6</th>\n",
       "      <th>7</th>\n",
       "      <th>8</th>\n",
       "      <th>9</th>\n",
       "      <th>10</th>\n",
       "      <th>11</th>\n",
       "      <th>12</th>\n",
       "      <th>13</th>\n",
       "      <th>14</th>\n",
       "    </tr>\n",
       "  </thead>\n",
       "  <tbody>\n",
       "    <tr>\n",
       "      <th>0</th>\n",
       "      <td>baking</td>\n",
       "      <td>flour</td>\n",
       "      <td>purpose</td>\n",
       "      <td>soda</td>\n",
       "      <td>eggs</td>\n",
       "      <td>salt</td>\n",
       "      <td>shortening</td>\n",
       "      <td>vegetable</td>\n",
       "      <td>sugar</td>\n",
       "      <td>walnuts</td>\n",
       "      <td>white</td>\n",
       "      <td>buttermilk</td>\n",
       "      <td>oil</td>\n",
       "      <td>powder</td>\n",
       "      <td>wheat</td>\n",
       "    </tr>\n",
       "    <tr>\n",
       "      <th>1</th>\n",
       "      <td>fresh</td>\n",
       "      <td>olive</td>\n",
       "      <td>oil</td>\n",
       "      <td>garlic</td>\n",
       "      <td>cloves</td>\n",
       "      <td>extra</td>\n",
       "      <td>virgin</td>\n",
       "      <td>leaves</td>\n",
       "      <td>parsley</td>\n",
       "      <td>tomatoes</td>\n",
       "      <td>basil</td>\n",
       "      <td>large</td>\n",
       "      <td>salt</td>\n",
       "      <td>cilantro</td>\n",
       "      <td>wine</td>\n",
       "    </tr>\n",
       "    <tr>\n",
       "      <th>2</th>\n",
       "      <td>cheese</td>\n",
       "      <td>shredded</td>\n",
       "      <td>cheddar</td>\n",
       "      <td>parmesan</td>\n",
       "      <td>grated</td>\n",
       "      <td>slices</td>\n",
       "      <td>mozzarella</td>\n",
       "      <td>package</td>\n",
       "      <td>bread</td>\n",
       "      <td>sharp</td>\n",
       "      <td>bacon</td>\n",
       "      <td>italian</td>\n",
       "      <td>eggs</td>\n",
       "      <td>pasta</td>\n",
       "      <td>jack</td>\n",
       "    </tr>\n",
       "    <tr>\n",
       "      <th>3</th>\n",
       "      <td>juice</td>\n",
       "      <td>lemon</td>\n",
       "      <td>orange</td>\n",
       "      <td>zest</td>\n",
       "      <td>lime</td>\n",
       "      <td>fluid</td>\n",
       "      <td>fresh</td>\n",
       "      <td>pineapple</td>\n",
       "      <td>ice</td>\n",
       "      <td>juiced</td>\n",
       "      <td>grated</td>\n",
       "      <td>sugar</td>\n",
       "      <td>honey</td>\n",
       "      <td>white</td>\n",
       "      <td>flavored</td>\n",
       "    </tr>\n",
       "    <tr>\n",
       "      <th>4</th>\n",
       "      <td>ground</td>\n",
       "      <td>cinnamon</td>\n",
       "      <td>nutmeg</td>\n",
       "      <td>ginger</td>\n",
       "      <td>pumpkin</td>\n",
       "      <td>cloves</td>\n",
       "      <td>brown</td>\n",
       "      <td>allspice</td>\n",
       "      <td>sugar</td>\n",
       "      <td>apples</td>\n",
       "      <td>raisins</td>\n",
       "      <td>puree</td>\n",
       "      <td>pie</td>\n",
       "      <td>apple</td>\n",
       "      <td>molasses</td>\n",
       "    </tr>\n",
       "    <tr>\n",
       "      <th>5</th>\n",
       "      <td>chocolate</td>\n",
       "      <td>chips</td>\n",
       "      <td>semisweet</td>\n",
       "      <td>squares</td>\n",
       "      <td>peanut</td>\n",
       "      <td>miniature</td>\n",
       "      <td>walnuts</td>\n",
       "      <td>semi</td>\n",
       "      <td>unsweetened</td>\n",
       "      <td>marshmallows</td>\n",
       "      <td>candy</td>\n",
       "      <td>sweet</td>\n",
       "      <td>cereal</td>\n",
       "      <td>soda</td>\n",
       "      <td>oats</td>\n",
       "    </tr>\n",
       "    <tr>\n",
       "      <th>6</th>\n",
       "      <td>water</td>\n",
       "      <td>white</td>\n",
       "      <td>sugar</td>\n",
       "      <td>dry</td>\n",
       "      <td>yeast</td>\n",
       "      <td>warm</td>\n",
       "      <td>vinegar</td>\n",
       "      <td>flour</td>\n",
       "      <td>salt</td>\n",
       "      <td>cold</td>\n",
       "      <td>bread</td>\n",
       "      <td>purpose</td>\n",
       "      <td>cornstarch</td>\n",
       "      <td>distilled</td>\n",
       "      <td>rice</td>\n",
       "    </tr>\n",
       "    <tr>\n",
       "      <th>7</th>\n",
       "      <td>package</td>\n",
       "      <td>mix</td>\n",
       "      <td>cake</td>\n",
       "      <td>pudding</td>\n",
       "      <td>instant</td>\n",
       "      <td>vegetable</td>\n",
       "      <td>yellow</td>\n",
       "      <td>flavored</td>\n",
       "      <td>eggs</td>\n",
       "      <td>jell</td>\n",
       "      <td>oil</td>\n",
       "      <td>confectioners</td>\n",
       "      <td>water</td>\n",
       "      <td>dressing</td>\n",
       "      <td>food</td>\n",
       "    </tr>\n",
       "    <tr>\n",
       "      <th>8</th>\n",
       "      <td>pepper</td>\n",
       "      <td>black</td>\n",
       "      <td>ground</td>\n",
       "      <td>salt</td>\n",
       "      <td>red</td>\n",
       "      <td>bell</td>\n",
       "      <td>onion</td>\n",
       "      <td>cayenne</td>\n",
       "      <td>paprika</td>\n",
       "      <td>potatoes</td>\n",
       "      <td>garlic</td>\n",
       "      <td>large</td>\n",
       "      <td>mustard</td>\n",
       "      <td>green</td>\n",
       "      <td>freshly</td>\n",
       "    </tr>\n",
       "    <tr>\n",
       "      <th>9</th>\n",
       "      <td>sauce</td>\n",
       "      <td>soy</td>\n",
       "      <td>worcestershire</td>\n",
       "      <td>hot</td>\n",
       "      <td>sesame</td>\n",
       "      <td>garlic</td>\n",
       "      <td>ketchup</td>\n",
       "      <td>pork</td>\n",
       "      <td>mustard</td>\n",
       "      <td>ginger</td>\n",
       "      <td>brown</td>\n",
       "      <td>vinegar</td>\n",
       "      <td>tomato</td>\n",
       "      <td>rice</td>\n",
       "      <td>oil</td>\n",
       "    </tr>\n",
       "    <tr>\n",
       "      <th>10</th>\n",
       "      <td>dried</td>\n",
       "      <td>oregano</td>\n",
       "      <td>basil</td>\n",
       "      <td>thyme</td>\n",
       "      <td>parsley</td>\n",
       "      <td>garlic</td>\n",
       "      <td>rosemary</td>\n",
       "      <td>tomato</td>\n",
       "      <td>tomatoes</td>\n",
       "      <td>weed</td>\n",
       "      <td>dill</td>\n",
       "      <td>sage</td>\n",
       "      <td>cloves</td>\n",
       "      <td>bay</td>\n",
       "      <td>marjoram</td>\n",
       "    </tr>\n",
       "    <tr>\n",
       "      <th>11</th>\n",
       "      <td>milk</td>\n",
       "      <td>coconut</td>\n",
       "      <td>sweetened</td>\n",
       "      <td>condensed</td>\n",
       "      <td>evaporated</td>\n",
       "      <td>flaked</td>\n",
       "      <td>eggs</td>\n",
       "      <td>fluid</td>\n",
       "      <td>whole</td>\n",
       "      <td>butter</td>\n",
       "      <td>ice</td>\n",
       "      <td>salt</td>\n",
       "      <td>margarine</td>\n",
       "      <td>banana</td>\n",
       "      <td>cubes</td>\n",
       "    </tr>\n",
       "    <tr>\n",
       "      <th>12</th>\n",
       "      <td>extract</td>\n",
       "      <td>vanilla</td>\n",
       "      <td>sugar</td>\n",
       "      <td>white</td>\n",
       "      <td>confectioners</td>\n",
       "      <td>eggs</td>\n",
       "      <td>almond</td>\n",
       "      <td>pecans</td>\n",
       "      <td>sifted</td>\n",
       "      <td>unsweetened</td>\n",
       "      <td>softened</td>\n",
       "      <td>cocoa</td>\n",
       "      <td>walnuts</td>\n",
       "      <td>cake</td>\n",
       "      <td>cinnamon</td>\n",
       "    </tr>\n",
       "    <tr>\n",
       "      <th>13</th>\n",
       "      <td>butter</td>\n",
       "      <td>sugar</td>\n",
       "      <td>brown</td>\n",
       "      <td>softened</td>\n",
       "      <td>melted</td>\n",
       "      <td>peanut</td>\n",
       "      <td>purpose</td>\n",
       "      <td>unsalted</td>\n",
       "      <td>confectioners</td>\n",
       "      <td>flour</td>\n",
       "      <td>pecans</td>\n",
       "      <td>oats</td>\n",
       "      <td>light</td>\n",
       "      <td>syrup</td>\n",
       "      <td>rolled</td>\n",
       "    </tr>\n",
       "    <tr>\n",
       "      <th>14</th>\n",
       "      <td>pound</td>\n",
       "      <td>beef</td>\n",
       "      <td>onion</td>\n",
       "      <td>broth</td>\n",
       "      <td>pounds</td>\n",
       "      <td>soup</td>\n",
       "      <td>chicken</td>\n",
       "      <td>ground</td>\n",
       "      <td>potatoes</td>\n",
       "      <td>lean</td>\n",
       "      <td>carrots</td>\n",
       "      <td>large</td>\n",
       "      <td>tomato</td>\n",
       "      <td>celery</td>\n",
       "      <td>sausage</td>\n",
       "    </tr>\n",
       "    <tr>\n",
       "      <th>15</th>\n",
       "      <td>egg</td>\n",
       "      <td>whites</td>\n",
       "      <td>beaten</td>\n",
       "      <td>yolks</td>\n",
       "      <td>flour</td>\n",
       "      <td>purpose</td>\n",
       "      <td>white</td>\n",
       "      <td>yolk</td>\n",
       "      <td>crumbs</td>\n",
       "      <td>lightly</td>\n",
       "      <td>bread</td>\n",
       "      <td>salt</td>\n",
       "      <td>sugar</td>\n",
       "      <td>tartar</td>\n",
       "      <td>pie</td>\n",
       "    </tr>\n",
       "    <tr>\n",
       "      <th>16</th>\n",
       "      <td>cream</td>\n",
       "      <td>heavy</td>\n",
       "      <td>sour</td>\n",
       "      <td>softened</td>\n",
       "      <td>whipping</td>\n",
       "      <td>cheese</td>\n",
       "      <td>packages</td>\n",
       "      <td>soup</td>\n",
       "      <td>condensed</td>\n",
       "      <td>package</td>\n",
       "      <td>half</td>\n",
       "      <td>mushroom</td>\n",
       "      <td>pint</td>\n",
       "      <td>tartar</td>\n",
       "      <td>graham</td>\n",
       "    </tr>\n",
       "    <tr>\n",
       "      <th>17</th>\n",
       "      <td>powder</td>\n",
       "      <td>cocoa</td>\n",
       "      <td>unsweetened</td>\n",
       "      <td>chili</td>\n",
       "      <td>baking</td>\n",
       "      <td>garlic</td>\n",
       "      <td>paprika</td>\n",
       "      <td>cumin</td>\n",
       "      <td>curry</td>\n",
       "      <td>onion</td>\n",
       "      <td>coffee</td>\n",
       "      <td>cayenne</td>\n",
       "      <td>salt</td>\n",
       "      <td>brewed</td>\n",
       "      <td>oil</td>\n",
       "    </tr>\n",
       "    <tr>\n",
       "      <th>18</th>\n",
       "      <td>drained</td>\n",
       "      <td>beans</td>\n",
       "      <td>green</td>\n",
       "      <td>cans</td>\n",
       "      <td>peppers</td>\n",
       "      <td>tomatoes</td>\n",
       "      <td>corn</td>\n",
       "      <td>bell</td>\n",
       "      <td>chili</td>\n",
       "      <td>onions</td>\n",
       "      <td>chile</td>\n",
       "      <td>kidney</td>\n",
       "      <td>cumin</td>\n",
       "      <td>tomato</td>\n",
       "      <td>whole</td>\n",
       "    </tr>\n",
       "    <tr>\n",
       "      <th>19</th>\n",
       "      <td>frozen</td>\n",
       "      <td>thawed</td>\n",
       "      <td>topping</td>\n",
       "      <td>whipped</td>\n",
       "      <td>pie</td>\n",
       "      <td>crust</td>\n",
       "      <td>strawberries</td>\n",
       "      <td>graham</td>\n",
       "      <td>cracker</td>\n",
       "      <td>pineapple</td>\n",
       "      <td>package</td>\n",
       "      <td>spinach</td>\n",
       "      <td>pastry</td>\n",
       "      <td>packages</td>\n",
       "      <td>drained</td>\n",
       "    </tr>\n",
       "  </tbody>\n",
       "</table>\n",
       "</div>"
      ],
      "text/plain": [
       "           0         1               2          3              4          5             6          7              8             9         10             11          12         13        14\n",
       "0      baking     flour         purpose       soda           eggs       salt    shortening  vegetable          sugar       walnuts     white     buttermilk         oil     powder     wheat\n",
       "1       fresh     olive             oil     garlic         cloves      extra        virgin     leaves        parsley      tomatoes     basil          large        salt   cilantro      wine\n",
       "2      cheese  shredded         cheddar   parmesan         grated     slices    mozzarella    package          bread         sharp     bacon        italian        eggs      pasta      jack\n",
       "3       juice     lemon          orange       zest           lime      fluid         fresh  pineapple            ice        juiced    grated          sugar       honey      white  flavored\n",
       "4      ground  cinnamon          nutmeg     ginger        pumpkin     cloves         brown   allspice          sugar        apples   raisins          puree         pie      apple  molasses\n",
       "5   chocolate     chips       semisweet    squares         peanut  miniature       walnuts       semi    unsweetened  marshmallows     candy          sweet      cereal       soda      oats\n",
       "6       water     white           sugar        dry          yeast       warm       vinegar      flour           salt          cold     bread        purpose  cornstarch  distilled      rice\n",
       "7     package       mix            cake    pudding        instant  vegetable        yellow   flavored           eggs          jell       oil  confectioners       water   dressing      food\n",
       "8      pepper     black          ground       salt            red       bell         onion    cayenne        paprika      potatoes    garlic          large     mustard      green   freshly\n",
       "9       sauce       soy  worcestershire        hot         sesame     garlic       ketchup       pork        mustard        ginger     brown        vinegar      tomato       rice       oil\n",
       "10      dried   oregano           basil      thyme        parsley     garlic      rosemary     tomato       tomatoes          weed      dill           sage      cloves        bay  marjoram\n",
       "11       milk   coconut       sweetened  condensed     evaporated     flaked          eggs      fluid          whole        butter       ice           salt   margarine     banana     cubes\n",
       "12    extract   vanilla           sugar      white  confectioners       eggs        almond     pecans         sifted   unsweetened  softened          cocoa     walnuts       cake  cinnamon\n",
       "13     butter     sugar           brown   softened         melted     peanut       purpose   unsalted  confectioners         flour    pecans           oats       light      syrup    rolled\n",
       "14      pound      beef           onion      broth         pounds       soup       chicken     ground       potatoes          lean   carrots          large      tomato     celery   sausage\n",
       "15        egg    whites          beaten      yolks          flour    purpose         white       yolk         crumbs       lightly     bread           salt       sugar     tartar       pie\n",
       "16      cream     heavy            sour   softened       whipping     cheese      packages       soup      condensed       package      half       mushroom        pint     tartar    graham\n",
       "17     powder     cocoa     unsweetened      chili         baking     garlic       paprika      cumin          curry         onion    coffee        cayenne        salt     brewed       oil\n",
       "18    drained     beans           green       cans        peppers   tomatoes          corn       bell          chili        onions     chile         kidney       cumin     tomato     whole\n",
       "19     frozen    thawed         topping    whipped            pie      crust  strawberries     graham        cracker     pineapple   package        spinach      pastry   packages   drained"
      ]
     },
     "execution_count": 105,
     "metadata": {},
     "output_type": "execute_result"
    }
   ],
   "source": [
    "topic_words = []\n",
    "for r in H:\n",
    "    a = sorted([(v,i) for i,v in enumerate(r)],reverse=True)[0:15]\n",
    "    topic_words.append([words[e[1]] for e in a])\n",
    "\n",
    "pd.DataFrame(topic_words)"
   ]
  },
  {
   "cell_type": "markdown",
   "metadata": {},
   "source": [
    "### Transfer Neural Net Predictions to Relevant Recipes "
   ]
  },
  {
   "cell_type": "code",
   "execution_count": 40,
   "metadata": {
    "ExecuteTime": {
     "end_time": "2020-01-04T18:37:02.207293Z",
     "start_time": "2020-01-04T18:36:59.464438Z"
    }
   },
   "outputs": [],
   "source": [
    "from keras.models import load_model\n",
    "model = load_model('../model.h5')"
   ]
  },
  {
   "cell_type": "code",
   "execution_count": 41,
   "metadata": {
    "ExecuteTime": {
     "end_time": "2020-01-04T18:37:02.224787Z",
     "start_time": "2020-01-04T18:37:02.210897Z"
    }
   },
   "outputs": [],
   "source": [
    "def img_to_array(image_path, size=(150,150)):\n",
    "    \n",
    "    # Load images from directory and then convert to numpy array\n",
    "\n",
    "    image = PIL.Image.open(image_path).resize(size)\n",
    "    img_data = np.array(image.getdata(), np.float32).reshape(*size, -1)\n",
    "    img_data = np.flip(img_data, axis=2)\n",
    "    return img_data\n",
    "\n",
    "def prepare_image(image_path):\n",
    "    im = img_to_array(image_path)\n",
    "    im = im / 255\n",
    "    im = np.expand_dims(im, axis=0) # adjust to (1, 3, 150, 150) for generating keras prediction\n",
    "    \n",
    "    return im"
   ]
  },
  {
   "cell_type": "code",
   "execution_count": 42,
   "metadata": {
    "ExecuteTime": {
     "end_time": "2020-01-04T18:37:02.557809Z",
     "start_time": "2020-01-04T18:37:02.228798Z"
    },
    "code_folding": []
   },
   "outputs": [
    {
     "name": "stdout",
     "output_type": "stream",
     "text": [
      "Found 1115 images belonging to 13 classes.\n",
      "Found 272 images belonging to 13 classes.\n"
     ]
    }
   ],
   "source": [
    "# Image augmentation\n",
    "\n",
    "train_datagen = ImageDataGenerator(\n",
    "      rescale=1/255,\n",
    "      rotation_range=40,\n",
    "      width_shift_range=0.2,\n",
    "      height_shift_range=0.2,\n",
    "      shear_range=0.2,\n",
    "      zoom_range=0.2,\n",
    "      fill_mode='nearest',\n",
    "      validation_split = 0.2)\n",
    "\n",
    "batch_size = 25\n",
    "target_size = (150, 150)\n",
    "\n",
    "train_generator = train_datagen.flow_from_directory(\n",
    "    '../downloads',\n",
    "    target_size=target_size,\n",
    "    color_mode='rgb',\n",
    "    batch_size=batch_size,\n",
    "    class_mode='categorical',\n",
    "    subset='training') # training data\n",
    "\n",
    "validation_generator = train_datagen.flow_from_directory(\n",
    "    '../downloads',\n",
    "    target_size=target_size,\n",
    "    color_mode='rgb',\n",
    "    batch_size=batch_size,\n",
    "    class_mode='categorical',\n",
    "    subset='validation') # validation data"
   ]
  },
  {
   "cell_type": "code",
   "execution_count": 43,
   "metadata": {
    "ExecuteTime": {
     "end_time": "2020-01-04T18:37:02.572073Z",
     "start_time": "2020-01-04T18:37:02.560980Z"
    },
    "code_folding": []
   },
   "outputs": [
    {
     "data": {
      "text/plain": [
       "{0: 'Apple',\n",
       " 1: 'Asparagus',\n",
       " 2: 'Avocado',\n",
       " 3: 'Bacon',\n",
       " 4: 'Banana',\n",
       " 5: 'Bell Pepper',\n",
       " 6: 'Broccoli',\n",
       " 7: 'Eggplant',\n",
       " 8: 'Eggs',\n",
       " 9: 'Kale',\n",
       " 10: 'Onion',\n",
       " 11: 'Sausage',\n",
       " 12: 'Sweet Potato'}"
      ]
     },
     "execution_count": 43,
     "metadata": {},
     "output_type": "execute_result"
    }
   ],
   "source": [
    "# Assign class labels in order to feed predictions into recipe table\n",
    "\n",
    "classes = {v: k for k, v in train_generator.class_indices.items()}\n",
    "classes"
   ]
  },
  {
   "cell_type": "markdown",
   "metadata": {},
   "source": [
    "### Predictions"
   ]
  },
  {
   "cell_type": "code",
   "execution_count": 17,
   "metadata": {
    "ExecuteTime": {
     "end_time": "2020-01-03T18:33:17.880864Z",
     "start_time": "2020-01-03T18:33:17.873902Z"
    }
   },
   "outputs": [],
   "source": [
    "images = []"
   ]
  },
  {
   "cell_type": "code",
   "execution_count": 18,
   "metadata": {
    "ExecuteTime": {
     "end_time": "2020-01-03T18:33:18.255049Z",
     "start_time": "2020-01-03T18:33:18.248919Z"
    }
   },
   "outputs": [],
   "source": [
    "for subdir, dirs, files in os.walk('image_uploads'):\n",
    "    for file in files:\n",
    "        filepath = subdir + os.sep + file\n",
    "        if filepath.endswith(\".jpg\"):\n",
    "            images.append(filepath.split('/')[1])"
   ]
  },
  {
   "cell_type": "code",
   "execution_count": 44,
   "metadata": {
    "ExecuteTime": {
     "end_time": "2020-01-04T18:37:13.287468Z",
     "start_time": "2020-01-04T18:37:13.281063Z"
    }
   },
   "outputs": [],
   "source": [
    "images = os.listdir('../flask/image_uploads')[1:]"
   ]
  },
  {
   "cell_type": "code",
   "execution_count": 45,
   "metadata": {
    "ExecuteTime": {
     "end_time": "2020-01-04T18:37:15.121254Z",
     "start_time": "2020-01-04T18:37:15.114905Z"
    }
   },
   "outputs": [],
   "source": [
    "def image_prediction(images):\n",
    "    \n",
    "    prepared_images = []\n",
    "    outs = []\n",
    "    predictions = []\n",
    "    \n",
    "    # load images, convert to numpy array\n",
    "    for image in images:\n",
    "        prepared_images.append(prepare_image('../flask/image_uploads/{}'.format(image)))\n",
    "    \n",
    "    # make prediction\n",
    "    for prep_image in prepared_images:\n",
    "        outs.append(model.predict(prep_image))\n",
    "    \n",
    "    # label prediction\n",
    "    for out in outs:\n",
    "        predictions.append(classes[np.argmax(out)])\n",
    "       \n",
    "    return predictions"
   ]
  },
  {
   "cell_type": "code",
   "execution_count": 46,
   "metadata": {
    "ExecuteTime": {
     "end_time": "2020-01-04T18:37:16.128510Z",
     "start_time": "2020-01-04T18:37:15.642983Z"
    }
   },
   "outputs": [
    {
     "data": {
      "text/plain": [
       "['avocado', 'broccoli']"
      ]
     },
     "execution_count": 46,
     "metadata": {},
     "output_type": "execute_result"
    }
   ],
   "source": [
    "predictions = image_prediction(images)\n",
    "predictions = [prediction.lower() for prediction in predictions]\n",
    "predictions"
   ]
  },
  {
   "cell_type": "markdown",
   "metadata": {
    "heading_collapsed": true
   },
   "source": [
    "#### Check which images are classified correctly "
   ]
  },
  {
   "cell_type": "code",
   "execution_count": 129,
   "metadata": {
    "ExecuteTime": {
     "end_time": "2020-01-02T16:52:03.243404Z",
     "start_time": "2020-01-02T16:52:03.236412Z"
    },
    "hidden": true
   },
   "outputs": [],
   "source": [
    "def predict_imgs_in_folders(food):\n",
    "    foods = [i for i in glob('../downloads/{}/*'.format(food))] \n",
    "    \n",
    "    class_prediction = []\n",
    "    \n",
    "    for image in foods:\n",
    "        try:\n",
    "            img = prepare_image(image)\n",
    "            out = model.predict(img)\n",
    "            class_prediction.append(classes[np.argmax(out)])\n",
    "        except:\n",
    "            pass\n",
    "    \n",
    "    return class_prediction"
   ]
  },
  {
   "cell_type": "markdown",
   "metadata": {
    "heading_collapsed": true
   },
   "source": [
    "### Confusion Matrix"
   ]
  },
  {
   "cell_type": "code",
   "execution_count": 21,
   "metadata": {
    "ExecuteTime": {
     "end_time": "2020-01-04T18:27:52.296057Z",
     "start_time": "2020-01-04T18:27:52.282570Z"
    },
    "hidden": true
   },
   "outputs": [],
   "source": [
    "all_image_paths = []\n",
    "\n",
    "# loop through all image paths\n",
    "for path, subdirs, files in os.walk('../downloads/'):\n",
    "    for name in files:\n",
    "        all_image_paths.append((os.path.join(path, name)))"
   ]
  },
  {
   "cell_type": "code",
   "execution_count": 172,
   "metadata": {
    "ExecuteTime": {
     "end_time": "2020-01-02T17:55:43.061253Z",
     "start_time": "2020-01-02T17:51:08.153395Z"
    },
    "hidden": true
   },
   "outputs": [],
   "source": [
    "y_preds = []\n",
    "y_actuals = []\n",
    "\n",
    "# Gather predicted vs. actual values for confusion matrix\n",
    "for image_path in all_image_paths[1:]:\n",
    "    try:\n",
    "        y_pred = model.predict(prepare_image(image_path))\n",
    "        y_preds.append(classes[np.argmax(y_pred)])\n",
    "        y_actuals.append(image_path.split('/')[2])\n",
    "    except:\n",
    "        pass"
   ]
  },
  {
   "cell_type": "code",
   "execution_count": 24,
   "metadata": {
    "ExecuteTime": {
     "end_time": "2020-01-04T18:28:26.871821Z",
     "start_time": "2020-01-04T18:28:26.804876Z"
    },
    "hidden": true
   },
   "outputs": [
    {
     "ename": "AttributeError",
     "evalue": "'list' object has no attribute 'read'",
     "output_type": "error",
     "traceback": [
      "\u001b[0;31m---------------------------------------------------------------------------\u001b[0m",
      "\u001b[0;31mAttributeError\u001b[0m                            Traceback (most recent call last)",
      "\u001b[0;32m<ipython-input-24-d72bc27fd4a6>\u001b[0m in \u001b[0;36m<module>\u001b[0;34m()\u001b[0m\n\u001b[0;32m----> 1\u001b[0;31m \u001b[0mimg\u001b[0m \u001b[0;34m=\u001b[0m \u001b[0mprepare_image\u001b[0m\u001b[0;34m(\u001b[0m\u001b[0mall_image_paths\u001b[0m\u001b[0;34m)\u001b[0m\u001b[0;34m\u001b[0m\u001b[0m\n\u001b[0m\u001b[1;32m      2\u001b[0m \u001b[0mout\u001b[0m \u001b[0;34m=\u001b[0m \u001b[0mmodel\u001b[0m\u001b[0;34m.\u001b[0m\u001b[0mpredict\u001b[0m\u001b[0;34m(\u001b[0m\u001b[0mimg\u001b[0m\u001b[0;34m)\u001b[0m\u001b[0;34m\u001b[0m\u001b[0m\n",
      "\u001b[0;32m<ipython-input-16-e503cdc11c5f>\u001b[0m in \u001b[0;36mprepare_image\u001b[0;34m(image_path)\u001b[0m\n\u001b[1;32m      9\u001b[0m \u001b[0;34m\u001b[0m\u001b[0m\n\u001b[1;32m     10\u001b[0m \u001b[0;32mdef\u001b[0m \u001b[0mprepare_image\u001b[0m\u001b[0;34m(\u001b[0m\u001b[0mimage_path\u001b[0m\u001b[0;34m)\u001b[0m\u001b[0;34m:\u001b[0m\u001b[0;34m\u001b[0m\u001b[0m\n\u001b[0;32m---> 11\u001b[0;31m     \u001b[0mim\u001b[0m \u001b[0;34m=\u001b[0m \u001b[0mimg_to_array\u001b[0m\u001b[0;34m(\u001b[0m\u001b[0mimage_path\u001b[0m\u001b[0;34m)\u001b[0m\u001b[0;34m\u001b[0m\u001b[0m\n\u001b[0m\u001b[1;32m     12\u001b[0m     \u001b[0mim\u001b[0m \u001b[0;34m=\u001b[0m \u001b[0mim\u001b[0m \u001b[0;34m/\u001b[0m \u001b[0;36m255\u001b[0m\u001b[0;34m\u001b[0m\u001b[0m\n\u001b[1;32m     13\u001b[0m     \u001b[0mim\u001b[0m \u001b[0;34m=\u001b[0m \u001b[0mnp\u001b[0m\u001b[0;34m.\u001b[0m\u001b[0mexpand_dims\u001b[0m\u001b[0;34m(\u001b[0m\u001b[0mim\u001b[0m\u001b[0;34m,\u001b[0m \u001b[0maxis\u001b[0m\u001b[0;34m=\u001b[0m\u001b[0;36m0\u001b[0m\u001b[0;34m)\u001b[0m \u001b[0;31m# adjust to (1, 3, 150, 150) for generating keras prediction\u001b[0m\u001b[0;34m\u001b[0m\u001b[0m\n",
      "\u001b[0;32m<ipython-input-16-e503cdc11c5f>\u001b[0m in \u001b[0;36mimg_to_array\u001b[0;34m(image_path, size)\u001b[0m\n\u001b[1;32m      3\u001b[0m     \u001b[0;31m# Load images from directory and then convert to numpy array\u001b[0m\u001b[0;34m\u001b[0m\u001b[0;34m\u001b[0m\u001b[0m\n\u001b[1;32m      4\u001b[0m \u001b[0;34m\u001b[0m\u001b[0m\n\u001b[0;32m----> 5\u001b[0;31m     \u001b[0mimage\u001b[0m \u001b[0;34m=\u001b[0m \u001b[0mPIL\u001b[0m\u001b[0;34m.\u001b[0m\u001b[0mImage\u001b[0m\u001b[0;34m.\u001b[0m\u001b[0mopen\u001b[0m\u001b[0;34m(\u001b[0m\u001b[0mimage_path\u001b[0m\u001b[0;34m)\u001b[0m\u001b[0;34m.\u001b[0m\u001b[0mresize\u001b[0m\u001b[0;34m(\u001b[0m\u001b[0msize\u001b[0m\u001b[0;34m)\u001b[0m\u001b[0;34m\u001b[0m\u001b[0m\n\u001b[0m\u001b[1;32m      6\u001b[0m     \u001b[0mimg_data\u001b[0m \u001b[0;34m=\u001b[0m \u001b[0mnp\u001b[0m\u001b[0;34m.\u001b[0m\u001b[0marray\u001b[0m\u001b[0;34m(\u001b[0m\u001b[0mimage\u001b[0m\u001b[0;34m.\u001b[0m\u001b[0mgetdata\u001b[0m\u001b[0;34m(\u001b[0m\u001b[0;34m)\u001b[0m\u001b[0;34m,\u001b[0m \u001b[0mnp\u001b[0m\u001b[0;34m.\u001b[0m\u001b[0mfloat32\u001b[0m\u001b[0;34m)\u001b[0m\u001b[0;34m.\u001b[0m\u001b[0mreshape\u001b[0m\u001b[0;34m(\u001b[0m\u001b[0;34m*\u001b[0m\u001b[0msize\u001b[0m\u001b[0;34m,\u001b[0m \u001b[0;34m-\u001b[0m\u001b[0;36m1\u001b[0m\u001b[0;34m)\u001b[0m\u001b[0;34m\u001b[0m\u001b[0m\n\u001b[1;32m      7\u001b[0m     \u001b[0mimg_data\u001b[0m \u001b[0;34m=\u001b[0m \u001b[0mnp\u001b[0m\u001b[0;34m.\u001b[0m\u001b[0mflip\u001b[0m\u001b[0;34m(\u001b[0m\u001b[0mimg_data\u001b[0m\u001b[0;34m,\u001b[0m \u001b[0maxis\u001b[0m\u001b[0;34m=\u001b[0m\u001b[0;36m2\u001b[0m\u001b[0;34m)\u001b[0m\u001b[0;34m\u001b[0m\u001b[0m\n",
      "\u001b[0;32m/miniconda3/lib/python3.5/site-packages/PIL/Image.py\u001b[0m in \u001b[0;36mopen\u001b[0;34m(fp, mode)\u001b[0m\n\u001b[1;32m   1976\u001b[0m         \u001b[0mfilename\u001b[0m \u001b[0;34m=\u001b[0m \u001b[0;34m\"\"\u001b[0m\u001b[0;34m\u001b[0m\u001b[0m\n\u001b[1;32m   1977\u001b[0m \u001b[0;34m\u001b[0m\u001b[0m\n\u001b[0;32m-> 1978\u001b[0;31m     \u001b[0mprefix\u001b[0m \u001b[0;34m=\u001b[0m \u001b[0mfp\u001b[0m\u001b[0;34m.\u001b[0m\u001b[0mread\u001b[0m\u001b[0;34m(\u001b[0m\u001b[0;36m16\u001b[0m\u001b[0;34m)\u001b[0m\u001b[0;34m\u001b[0m\u001b[0m\n\u001b[0m\u001b[1;32m   1979\u001b[0m \u001b[0;34m\u001b[0m\u001b[0m\n\u001b[1;32m   1980\u001b[0m     \u001b[0mpreinit\u001b[0m\u001b[0;34m(\u001b[0m\u001b[0;34m)\u001b[0m\u001b[0;34m\u001b[0m\u001b[0m\n",
      "\u001b[0;31mAttributeError\u001b[0m: 'list' object has no attribute 'read'"
     ]
    }
   ],
   "source": [
    "img = prepare_image(image_path)\n",
    "out = model.predict(img)"
   ]
  },
  {
   "cell_type": "code",
   "execution_count": 42,
   "metadata": {
    "ExecuteTime": {
     "end_time": "2020-01-03T19:13:26.741393Z",
     "start_time": "2020-01-03T19:13:26.039505Z"
    },
    "hidden": true
   },
   "outputs": [
    {
     "ename": "NameError",
     "evalue": "name 'y_actuals' is not defined",
     "output_type": "error",
     "traceback": [
      "\u001b[0;31m---------------------------------------------------------------------------\u001b[0m",
      "\u001b[0;31mNameError\u001b[0m                                 Traceback (most recent call last)",
      "\u001b[0;32m<ipython-input-42-d640c4d06677>\u001b[0m in \u001b[0;36m<module>\u001b[0;34m()\u001b[0m\n\u001b[1;32m      2\u001b[0m           'Eggs', 'Sausage', 'Broccoli', 'Asparagus', 'Banana', 'Bacon']\n\u001b[1;32m      3\u001b[0m \u001b[0;34m\u001b[0m\u001b[0m\n\u001b[0;32m----> 4\u001b[0;31m \u001b[0mcm\u001b[0m \u001b[0;34m=\u001b[0m \u001b[0mconfusion_matrix\u001b[0m\u001b[0;34m(\u001b[0m\u001b[0my_actuals\u001b[0m\u001b[0;34m,\u001b[0m \u001b[0my_preds\u001b[0m\u001b[0;34m)\u001b[0m\u001b[0;34m\u001b[0m\u001b[0m\n\u001b[0m",
      "\u001b[0;31mNameError\u001b[0m: name 'y_actuals' is not defined"
     ]
    }
   ],
   "source": [
    "labels = ['Apple', 'Kale', 'Bell Pepper', 'Avocado', 'Onion', 'Sweet Potato', 'Eggplant',\n",
    "          'Eggs', 'Sausage', 'Broccoli', 'Asparagus', 'Banana', 'Bacon']\n",
    "\n",
    "cm = confusion_matrix(y_actuals, y_preds)"
   ]
  },
  {
   "cell_type": "code",
   "execution_count": 175,
   "metadata": {
    "ExecuteTime": {
     "end_time": "2020-01-02T17:55:43.329018Z",
     "start_time": "2020-01-02T17:55:43.318723Z"
    },
    "hidden": true
   },
   "outputs": [],
   "source": [
    "def plot_confusion_matrix(cm, labels,\n",
    "                          normalize=True,\n",
    "                          title='CNN Image Classifier',\n",
    "                          cmap=plt.cm.Blues):\n",
    "    \n",
    "    # Plot the multiclass confusion matrix\n",
    "    \n",
    "    cm = cm.astype('float') / cm.sum(axis=1)[:, np.newaxis]\n",
    "\n",
    "    plt.imshow(cm, interpolation='nearest', cmap=cmap)\n",
    "    plt.title(title, fontsize='18', pad=10)\n",
    "    plt.colorbar()\n",
    "    tick_marks = np.arange(len(labels))\n",
    "    plt.xticks(tick_marks, labels, rotation=90, fontsize=14)\n",
    "    plt.yticks(tick_marks, labels, fontsize=14)\n",
    "\n",
    "    fmt = '.2f' if normalize else 'd'\n",
    "    thresh = cm.max() / 2.\n",
    "    for i, j in itertools.product(range(cm.shape[0]), range(cm.shape[1])):\n",
    "        plt.text(j, i, format(cm[i, j], fmt),\n",
    "                 horizontalalignment=\"center\",\n",
    "                 color=\"white\" if cm[i, j] > thresh else \"black\")\n",
    "\n",
    "    plt.ylabel('Actual', fontsize='16')\n",
    "    plt.xlabel('Predicted', fontsize='16', labelpad=8)\n",
    "    plt.tight_layout()"
   ]
  },
  {
   "cell_type": "code",
   "execution_count": 176,
   "metadata": {
    "ExecuteTime": {
     "end_time": "2020-01-02T17:55:44.835633Z",
     "start_time": "2020-01-02T17:55:43.331621Z"
    },
    "hidden": true
   },
   "outputs": [
    {
     "data": {
      "image/png": "[encoded data removed]",
      "text/plain": [
       "<Figure size 1080x648 with 2 Axes>"
      ]
     },
     "metadata": {
      "needs_background": "light"
     },
     "output_type": "display_data"
    }
   ],
   "source": [
    "# Plot confusion matrix\n",
    "\n",
    "plt.figure(figsize = (15, 9))\n",
    "plot_confusion_matrix(cm, labels=labels,\n",
    "                      title='CNN Image Classifier')\n",
    "\n",
    "plt.savefig('../figures/ConfusionMatrix.png')"
   ]
  },
  {
   "cell_type": "markdown",
   "metadata": {},
   "source": [
    "### Select dietary and prep time preferences"
   ]
  },
  {
   "cell_type": "code",
   "execution_count": 60,
   "metadata": {
    "ExecuteTime": {
     "end_time": "2020-01-04T19:10:32.263556Z",
     "start_time": "2020-01-04T19:10:28.659656Z"
    }
   },
   "outputs": [
    {
     "name": "stdout",
     "output_type": "stream",
     "text": [
      "Do you have any dietary preferences? (yes/no) high protein\n"
     ]
    }
   ],
   "source": [
    "def pickDietaryPreferences():\n",
    "\n",
    "    response = input('Do you have any dietary preferences? (yes/no) ')\n",
    "     \n",
    "    if response == 'yes':\n",
    "        print('\\nPlease select one of the following: ')\n",
    "        print('\\nLow Carb –– Low Fat –– Low Calorie –– Low Sodium –– Low Cholesterol –– High Protein\\n')\n",
    "        \n",
    "        dietary_choice = input().lower()\n",
    "        return dietary_choice\n",
    "    \n",
    "    elif response == 'no':\n",
    "        dietary_choice = 'no'\n",
    "        return dietary_choice\n",
    "\n",
    "dietary_choice = pickDietaryPreferences()"
   ]
  },
  {
   "cell_type": "code",
   "execution_count": 61,
   "metadata": {
    "ExecuteTime": {
     "end_time": "2020-01-04T19:10:35.059909Z",
     "start_time": "2020-01-04T19:10:34.316511Z"
    }
   },
   "outputs": [
    {
     "name": "stdout",
     "output_type": "stream",
     "text": [
      "Do you want recipes that can be finished in under 45 minutes? (yes/no) yes\n"
     ]
    }
   ],
   "source": [
    "def pickPrepTime():\n",
    "    \n",
    "    response = input('Do you want recipes that can be finished in under 45 minutes? (yes/no) ')\n",
    "    \n",
    "    if response == 'yes':\n",
    "        preptime_choice = 'yes'\n",
    "        return preptime_choice\n",
    "    \n",
    "    return('no')\n",
    "\n",
    "preptime_choice = pickPrepTime()"
   ]
  },
  {
   "cell_type": "markdown",
   "metadata": {},
   "source": [
    "### Link Model with Recipes"
   ]
  },
  {
   "cell_type": "code",
   "execution_count": 62,
   "metadata": {
    "ExecuteTime": {
     "end_time": "2020-01-04T19:10:42.396027Z",
     "start_time": "2020-01-04T19:10:42.391568Z"
    },
    "code_folding": []
   },
   "outputs": [],
   "source": [
    "def linkModelWithRecipes(recipe_table, *predictions):\n",
    "    \n",
    "    return recipe_table[np.logical_and.reduce([recipe_table['Ingredients'].str.contains(ingredient) for ingredient in predictions])].sample(4)"
   ]
  },
  {
   "cell_type": "markdown",
   "metadata": {},
   "source": [
    "### Output  recipes based on dietary and time preference"
   ]
  },
  {
   "cell_type": "code",
   "execution_count": 65,
   "metadata": {
    "ExecuteTime": {
     "end_time": "2020-01-04T19:10:57.763524Z",
     "start_time": "2020-01-04T19:10:57.755781Z"
    }
   },
   "outputs": [],
   "source": [
    "# All recipes\n",
    "\n",
    "if preptime_choice == 'no':\n",
    "    \n",
    "    if dietary_choice == 'no':\n",
    "        user_specific_recipes = linkModelWithRecipes(df, *predictions)\n",
    "    elif dietary_choice == 'low carb':\n",
    "        user_specific_recipes = linkModelWithRecipes(df_low_carb, *predictions)\n",
    "    elif dietary_choice == 'low calorie':\n",
    "        user_specific_recipes = linkModelWithRecipes(df_low_calorie, *predictions)  \n",
    "    elif dietary_choice == 'low fat':\n",
    "        user_specific_recipes = linkModelWithRecipes(df_low_fat, *predictions)\n",
    "    elif dietary_choice == 'low sodium':\n",
    "        user_specific_recipes = linkModelWithRecipes(df_low_sodium, *predictions)\n",
    "    elif dietary_choice == 'low cholesterol':\n",
    "        user_specific_recipes = linkModelWithRecipes(df_low_cholesterol, *predictions)\n",
    "    elif dietary_choice == 'high protein':\n",
    "        user_specific_recipes = linkModelWithRecipes(df_high_protein, *predictions)\n",
    "        \n",
    "# Recipes under 45 minutes\n",
    "else:\n",
    "    if dietary_choice == 'no':\n",
    "        user_specific_recipes = linkModelWithRecipes(df_quick, *predictions)\n",
    "    elif dietary_choice == 'low carb':\n",
    "        user_specific_recipes = linkModelWithRecipes(df_low_carb_quick, *predictions)\n",
    "    elif dietary_choice == 'low calorie':\n",
    "        user_specific_recipes = linkModelWithRecipes(df_low_calorie_quick, *predictions)  \n",
    "    elif dietary_choice == 'low fat':\n",
    "        user_specific_recipes = linkModelWithRecipes(df_low_fat_quick, *predictions)\n",
    "    elif dietary_choice == 'low sodium':\n",
    "        user_specific_recipes = linkModelWithRecipes(df_low_sodium_quick, *predictions)\n",
    "    elif dietary_choice == 'low cholesterol':\n",
    "        user_specific_recipes = linkModelWithRecipes(df_low_cholesterol_quick, *predictions)\n",
    "    elif dietary_choice == 'high protein':\n",
    "        user_specific_recipes = linkModelWithRecipes(df_high_protein_quick, *predictions)"
   ]
  },
  {
   "cell_type": "code",
   "execution_count": 322,
   "metadata": {
    "ExecuteTime": {
     "end_time": "2020-01-03T17:20:16.680879Z",
     "start_time": "2020-01-03T17:20:13.731859Z"
    }
   },
   "outputs": [
    {
     "name": "stdout",
     "output_type": "stream",
     "text": [
      "[NbConvertApp] Converting notebook recipes.ipynb to python\n",
      "[NbConvertApp] Writing 16780 bytes to recipes.py\n"
     ]
    }
   ],
   "source": [
    "# !jupyter nbconvert --to python \"recipes.ipynb\" \\\n",
    "# --TemplateExporter.exclude_markdown=False \\\n",
    "# --TemplateExporter.exclude_output_prompt=True \\\n",
    "# --TemplateExporter.exclude_input_prompt=True"
   ]
  },
  {
   "cell_type": "code",
   "execution_count": null,
   "metadata": {},
   "outputs": [],
   "source": []
  }
 ],
 "metadata": {
  "kernelspec": {
   "display_name": "Python 3",
   "language": "python",
   "name": "python3"
  },
  "language_info": {
   "codemirror_mode": {
    "name": "ipython",
    "version": 3
   },
   "file_extension": ".py",
   "mimetype": "text/x-python",
   "name": "python",
   "nbconvert_exporter": "python",
   "pygments_lexer": "ipython3",
   "version": "3.5.6"
  },
  "toc": {
   "base_numbering": 1,
   "nav_menu": {},
   "number_sections": true,
   "sideBar": true,
   "skip_h1_title": false,
   "title_cell": "Table of Contents",
   "title_sidebar": "Contents",
   "toc_cell": false,
   "toc_position": {},
   "toc_section_display": true,
   "toc_window_display": false
  }
 },
 "nbformat": 4,
 "nbformat_minor": 2
}
